{
  "nbformat": 4,
  "nbformat_minor": 0,
  "metadata": {
    "colab": {
      "provenance": [],
      "authorship_tag": "ABX9TyO2Siu44eFS+Skh/CgiE8v3",
      "include_colab_link": true
    },
    "kernelspec": {
      "name": "python3",
      "display_name": "Python 3"
    },
    "language_info": {
      "name": "python"
    }
  },
  "cells": [
    {
      "cell_type": "markdown",
      "metadata": {
        "id": "view-in-github",
        "colab_type": "text"
      },
      "source": [
        "<a href=\"https://colab.research.google.com/github/puck-arthur/data-learning/blob/main/notebooks/week3_classification_models.ipynb\" target=\"_parent\"><img src=\"https://colab.research.google.com/assets/colab-badge.svg\" alt=\"Open In Colab\"/></a>"
      ]
    },
    {
      "cell_type": "markdown",
      "source": [
        "## Week 3 – Classification Models & Evaluation\n",
        "\n",
        "1. **Dataset Selection & Notebook Setup**  \n",
        "   - Choose a binary or multiclass classification dataset (e.g. the Student Depression dataset you saw earlier, the Titanic survival data, or another Kaggle set of your choice).  \n",
        "   - Create a new Colab notebook `week03_classification_models.ipynb` and import your CSV into a DataFrame.\n",
        "\n",
        "2. **Exploratory Data Analysis (EDA)**  \n",
        "   - **Target distribution**: bar‐plot of class counts; check for imbalance.  \n",
        "   - **Feature distributions**: histograms/boxplots for numeric features split by class.  \n",
        "   - **Missing data**: count and visualize gaps; decide on drop vs. impute vs. “Missing” category.\n",
        "\n",
        "3. **Preprocessing & Feature Engineering**  \n",
        "   - **Encode categoricals**:  \n",
        "     - Binary flags → 0/1  \n",
        "     - Nominal → one-hot  \n",
        "     - Ordinal → integer codes  \n",
        "   - **Scale numeric features** if your models need it (e.g. KNN, SVM).  \n",
        "   - **(Optional)** Create interaction or polynomial features if you want to explore nonlinearities.\n",
        "\n",
        "4. **Train/Test Split & Baseline**  \n",
        "   - Split into train/test (e.g. 80/20, with `stratify=target` if classes are imbalanced).  \n",
        "   - As a quick baseline, train a **dummy classifier** (e.g. `strategy=\"most_frequent\"`) and record its accuracy.\n",
        "\n",
        "5. **Build Classification Models**  \n",
        "   Fit at least three different models inside identical pipelines (preprocessing → model):  \n",
        "   - **LogisticRegression** (with and without regularization)  \n",
        "   - **DecisionTreeClassifier**  \n",
        "   - **RandomForestClassifier** or **GradientBoostingClassifier**  \n",
        "   *(Optional: try K-Nearest Neighbors or SVM)*\n",
        "\n",
        "6. **Evaluation Metrics**  \n",
        "   On the test set, compute and compare for each model:  \n",
        "   - **Accuracy**  \n",
        "   - **Precision, Recall, F1-score** (per class and macro-averaged)  \n",
        "   - **ROC AUC** (binary or one-vs-rest for multiclass)  \n",
        "   - **Confusion Matrix**\n",
        "\n",
        "7. **Visual Diagnostics**  \n",
        "   - **Confusion matrix heatmap** for each model.  \n",
        "   - **ROC curve(s)** plotted together.  \n",
        "   - **Precision-Recall curve** if your classes are imbalanced.  \n",
        "   - **Feature importance** (for tree models) or **coefficient bar chart** (for logistic).\n",
        "\n",
        "8. **Hyperparameter Tuning**  \n",
        "   - Pick one model (e.g. RandomForest) and run a simple `GridSearchCV` over 2–3 key parameters.  \n",
        "   - Compare tuned vs. untuned performance."
      ],
      "metadata": {
        "id": "pyW6aXA8H4qe"
      }
    },
    {
      "cell_type": "code",
      "source": [],
      "metadata": {
        "id": "s6VwoeiOIEx_"
      },
      "execution_count": null,
      "outputs": []
    }
  ]
}