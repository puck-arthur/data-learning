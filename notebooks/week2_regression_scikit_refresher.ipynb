{
  "nbformat": 4,
  "nbformat_minor": 0,
  "metadata": {
    "colab": {
      "provenance": [],
      "authorship_tag": "ABX9TyMwvoxwWh3iL4Z3/FroiyWJ",
      "include_colab_link": true
    },
    "kernelspec": {
      "name": "python3",
      "display_name": "Python 3"
    },
    "language_info": {
      "name": "python"
    }
  },
  "cells": [
    {
      "cell_type": "markdown",
      "metadata": {
        "id": "view-in-github",
        "colab_type": "text"
      },
      "source": [
        "<a href=\"https://colab.research.google.com/github/puck-arthur/data-learning/blob/main/notebooks/week2_regression_scikit_refresher.ipynb\" target=\"_parent\"><img src=\"https://colab.research.google.com/assets/colab-badge.svg\" alt=\"Open In Colab\"/></a>"
      ]
    },
    {
      "cell_type": "markdown",
      "source": [
        "## Week 2 Milestones: Scikit-Learn & Regression\n",
        "\n",
        "1. **Dataset Selection & Environment**  \n",
        "   - Choose one of the above Kaggle datasets and download the CSV.  \n",
        "   - Create a new Colab notebook: `week02_regression_models.ipynb`.  \n",
        "   - Install/import: `pandas`, `numpy`, `scikit-learn`, and any plotting libs.\n",
        "\n",
        "2. **Exploratory Data Analysis (EDA)**  \n",
        "   - Inspect distributions of your target and key features.  \n",
        "   - Handle missing data, outliers, and convert categorical variables (one-hot/dummy).\n",
        "\n",
        "3. **Feature Preparation & Scaling**  \n",
        "   - Select 5–10 predictors (numeric & encoded categorical).  \n",
        "   - Apply **StandardScaler** or **MinMaxScaler** as needed.\n",
        "\n",
        "4. **Train/Test Split**  \n",
        "   - Use `train_test_split` (e.g., 80/20).  \n",
        "   - Ensure random seed for reproducibility.\n",
        "\n",
        "5. **Model Building**  \n",
        "   - **Linear Regression**: fit and inspect coefficients.  \n",
        "   - **Decision Tree Regressor**: fit as a non-linear benchmark.  \n",
        "   - *(Optional)* **RandomForest Regressor** for performance comparison.\n",
        "\n",
        "6. **Evaluation Metrics**  \n",
        "   - Compute **MAE**, **RMSE**, and **R²** on test set.  \n",
        "   - Tabulate results to compare models side-by-side.\n",
        "\n",
        "7. **Visual Diagnostics**  \n",
        "   - Plot **Predicted vs. Actual** scatter.  \n",
        "   - Plot **Residuals** histogram or error distribution."
      ],
      "metadata": {
        "id": "Hh5BxkurrU4M"
      }
    },
    {
      "cell_type": "code",
      "execution_count": null,
      "metadata": {
        "id": "yDCitJ5lrHAN"
      },
      "outputs": [],
      "source": []
    }
  ]
}